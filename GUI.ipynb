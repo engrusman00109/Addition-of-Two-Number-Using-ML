{
 "cells": [
  {
   "cell_type": "code",
   "execution_count": 2,
   "id": "3871abbe",
   "metadata": {},
   "outputs": [
    {
     "name": "stderr",
     "output_type": "stream",
     "text": [
      "C:\\Users\\SAEED COMPUTERS\\anaconda3\\lib\\site-packages\\sklearn\\base.py:439: UserWarning: X does not have valid feature names, but LinearRegression was fitted with feature names\n",
      "  warnings.warn(\n"
     ]
    }
   ],
   "source": [
    "import tkinter as tk\n",
    "import joblib\n",
    "\n",
    "# Load the ML model\n",
    "model = joblib.load('model_joblib')\n",
    "\n",
    "# Function to perform addition using the ML model\n",
    "def add_numbers():\n",
    "    num1 = float(entry_num1.get())\n",
    "    num2 = float(entry_num2.get())\n",
    "    result = model.predict([[num1, num2]])\n",
    "    label_result['text'] = f\"Result: {result[0]}\"\n",
    "\n",
    "# Create the GUI window\n",
    "window = tk.Tk()\n",
    "window.title(\"Addition GUI\")\n",
    "\n",
    "# Create input labels and entry fields\n",
    "label_num1 = tk.Label(window, text=\"Number 1:\",bg=\"black\",fg=\"white\")\n",
    "label_num1.pack()\n",
    "entry_num1 = tk.Entry(window)\n",
    "entry_num1.pack()\n",
    "\n",
    "label_num2 = tk.Label(window, text=\"Number 2:\",bg=\"black\",fg=\"white\")\n",
    "label_num2.pack()\n",
    "entry_num2 = tk.Entry(window)\n",
    "entry_num2.pack()\n",
    "\n",
    "# Create the button to perform addition\n",
    "button_add = tk.Button(window, text=\"Add\", command=add_numbers,bg=\"red\",fg=\"white\")\n",
    "button_add.pack()\n",
    "\n",
    "# Create label to display the result\n",
    "label_result = tk.Label(window, text=\"Result:\",bg=\"blue\",fg=\"white\")\n",
    "label_result.pack()\n",
    "\n",
    "# Start the GUI event loop\n",
    "window.mainloop()\n"
   ]
  },
  {
   "cell_type": "code",
   "execution_count": null,
   "id": "c7cb17ab",
   "metadata": {},
   "outputs": [],
   "source": []
  }
 ],
 "metadata": {
  "kernelspec": {
   "display_name": "Python 3 (ipykernel)",
   "language": "python",
   "name": "python3"
  },
  "language_info": {
   "codemirror_mode": {
    "name": "ipython",
    "version": 3
   },
   "file_extension": ".py",
   "mimetype": "text/x-python",
   "name": "python",
   "nbconvert_exporter": "python",
   "pygments_lexer": "ipython3",
   "version": "3.9.7"
  }
 },
 "nbformat": 4,
 "nbformat_minor": 5
}
